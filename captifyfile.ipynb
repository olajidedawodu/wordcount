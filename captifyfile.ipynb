{
 "cells": [
  {
   "cell_type": "code",
   "execution_count": 1,
   "id": "e65711a7",
   "metadata": {},
   "outputs": [
    {
     "name": "stdout",
     "output_type": "stream",
     "text": [
      "Requirement already satisfied: pyspark in ./.local/lib/python3.9/site-packages (3.2.0)\n",
      "Requirement already satisfied: py4j==0.10.9.2 in ./.local/lib/python3.9/site-packages (from pyspark) (0.10.9.2)\n",
      "Note: you may need to restart the kernel to use updated packages.\n"
     ]
    }
   ],
   "source": [
    "pip install pyspark"
   ]
  },
  {
   "cell_type": "code",
   "execution_count": 2,
   "id": "32afa4c7",
   "metadata": {},
   "outputs": [],
   "source": [
    "import findspark\n",
    "findspark.init('/home/ola/spark-3.0.3')"
   ]
  },
  {
   "cell_type": "code",
   "execution_count": 3,
   "id": "251fef40",
   "metadata": {},
   "outputs": [],
   "source": [
    "import pyspark\n",
    "from pyspark.sql import SparkSession\n",
    "from pyspark import SparkContext\n",
    "import urllib\n",
    "import pandas as pd\n",
    "import wget"
   ]
  },
  {
   "cell_type": "code",
   "execution_count": 4,
   "id": "9e2ec67e",
   "metadata": {},
   "outputs": [
    {
     "name": "stderr",
     "output_type": "stream",
     "text": [
      "22/04/05 08:26:52 WARN Utils: Your hostname, ola-virtual-machine resolves to a loopback address: 127.0.1.1; using 192.168.181.130 instead (on interface ens33)\n",
      "22/04/05 08:26:52 WARN Utils: Set SPARK_LOCAL_IP if you need to bind to another address\n",
      "WARNING: An illegal reflective access operation has occurred\n",
      "WARNING: Illegal reflective access by org.apache.spark.unsafe.Platform (file:/home/ola/spark-3.0.3/jars/spark-unsafe_2.12-3.0.3.jar) to constructor java.nio.DirectByteBuffer(long,int)\n",
      "WARNING: Please consider reporting this to the maintainers of org.apache.spark.unsafe.Platform\n",
      "WARNING: Use --illegal-access=warn to enable warnings of further illegal reflective access operations\n",
      "WARNING: All illegal access operations will be denied in a future release\n",
      "22/04/05 08:26:53 WARN NativeCodeLoader: Unable to load native-hadoop library for your platform... using builtin-java classes where applicable\n",
      "Using Spark's default log4j profile: org/apache/spark/log4j-defaults.properties\n",
      "Setting default log level to \"WARN\".\n",
      "To adjust logging level use sc.setLogLevel(newLevel). For SparkR, use setLogLevel(newLevel).\n"
     ]
    }
   ],
   "source": [
    "spark = SparkSession.builder.appName (\"oladata\").getOrCreate()"
   ]
  },
  {
   "cell_type": "code",
   "execution_count": 5,
   "id": "fa27227e",
   "metadata": {},
   "outputs": [],
   "source": [
    "import tarfile"
   ]
  },
  {
   "cell_type": "code",
   "execution_count": 6,
   "id": "c1bafcfe",
   "metadata": {},
   "outputs": [],
   "source": [
    "df= urllib.request.urlretrieve(\"https://cdn.captifytechnologies.com/samples/sampled_kws.tar.gz\", \"sampled_kws.tar.gz\")"
   ]
  },
  {
   "cell_type": "code",
   "execution_count": 7,
   "id": "740b4218",
   "metadata": {},
   "outputs": [],
   "source": [
    "tf = tarfile.open(\"sampled_kws.tar.gz\")"
   ]
  },
  {
   "cell_type": "code",
   "execution_count": 8,
   "id": "91c82081",
   "metadata": {},
   "outputs": [],
   "source": [
    "tf.extractall('./zip_file')"
   ]
  },
  {
   "cell_type": "code",
   "execution_count": 9,
   "id": "d582039b",
   "metadata": {},
   "outputs": [
    {
     "name": "stderr",
     "output_type": "stream",
     "text": [
      "                                                                                \r"
     ]
    }
   ],
   "source": [
    "df1 =spark.read.format(\"parquet\").load(\"./zip_file/sampled_kws/day=20220222\")"
   ]
  },
  {
   "cell_type": "code",
   "execution_count": 10,
   "id": "48481776",
   "metadata": {},
   "outputs": [],
   "source": [
    "df2 = spark.read.format(\"parquet\").load(\"./zip_file/sampled_kws/day=20220223\")"
   ]
  },
  {
   "cell_type": "code",
   "execution_count": 11,
   "id": "990fff4b",
   "metadata": {},
   "outputs": [],
   "source": [
    "df3 = spark.read.format(\"parquet\").load(\"./zip_file/sampled_kws/day=20220224\")"
   ]
  },
  {
   "cell_type": "code",
   "execution_count": 12,
   "id": "ceb5a6f3",
   "metadata": {},
   "outputs": [],
   "source": [
    "from functools import reduce\n",
    "from pyspark.sql import DataFrame"
   ]
  },
  {
   "cell_type": "code",
   "execution_count": 13,
   "id": "7d3569da",
   "metadata": {},
   "outputs": [],
   "source": [
    "df_total =[df1,df2,df3]"
   ]
  },
  {
   "cell_type": "code",
   "execution_count": 14,
   "id": "a59dd891",
   "metadata": {},
   "outputs": [],
   "source": [
    "#merging all data df1, df2 and df3 together because they\n",
    "union_df = reduce(DataFrame.unionAll,df_total)"
   ]
  },
  {
   "cell_type": "code",
   "execution_count": 15,
   "id": "a6400aee",
   "metadata": {},
   "outputs": [
    {
     "name": "stderr",
     "output_type": "stream",
     "text": [
      "[Stage 3:>                                                          (0 + 1) / 1]\r"
     ]
    },
    {
     "name": "stdout",
     "output_type": "stream",
     "text": [
      "+-------------------+--------------------+---------------+-----------+----------+--------------------+--------------------+----------+\n",
      "|          eventDate|           keyphrase|      urlDomain|publisherId|regionCode|           userAgent|    hashed_concat_id|   anon_ip|\n",
      "+-------------------+--------------------+---------------+-----------+----------+--------------------+--------------------+----------+\n",
      "|2022-02-22 01:12:28|miley cyrus unzip...|  inquisitr.com|      12441|          |Mozilla/5.0 (Linu...|d1f758694c32be658...|2147483647|\n",
      "|2022-02-22 01:21:54| hawaiian last names|               |      12437|     US-FL|Mozilla/5.0 (Linu...|23f340c7e217dc122...|1234471680|\n",
      "|2022-02-22 01:02:29|lifestyle these p...|moneyawaits.com|      12441|          |Mozilla/5.0 (Linu...|4f8f018a71b986fff...| 643723776|\n",
      "|2022-02-22 01:48:33|news costco disco...|    eatthis.com|      12441|          |Mozilla/5.0 (Linu...|1f33a4cfee82f158d...|1074392832|\n",
      "|2022-02-22 01:18:54|general news - di...|               |      12437|     US-MO|Mozilla/5.0 (Linu...|bfaa2a17d8d6c8f72...|2147483647|\n",
      "|2022-02-22 01:21:37|brie larson see t...|               |      12437|     US-NY|Mozilla/5.0 (Linu...|352309d288ed17de4...|1627020800|\n",
      "|2022-02-22 01:30:59|spring data redis...|               |      12437|     US-CA|Mozilla/5.0 (Wind...|b54eb9076bc8dbec1...|1505474816|\n",
      "|2022-02-22 01:31:27|          main frame|               |      12437|     US-WI|Mozilla/5.0 (Linu...|9962edbc375afb528...|1180452352|\n",
      "|2022-02-22 01:45:37|Augmented True Li...|               |      12437|     US-IL|Mozilla/5.0 (Wind...|e73cf0d6b78d0b09b...|1228028672|\n",
      "|2022-02-22 01:40:00|coast guard suspe...|   fox8live.com|      12441|          |Mozilla/5.0 (Linu...|ffcab12b5f4f277b0...|2147483647|\n",
      "|2022-02-22 01:11:40|bold beautiful ri...|               |      12437|     US-MI|Mozilla/5.0 (Wind...|d4632d6454f987fb5...|1633624064|\n",
      "|2022-02-22 01:34:49|us figure skating...|               |      12437|          |Mozilla/5.0 (Linu...|cc5c79727479f2306...| 137054464|\n",
      "|2022-02-22 01:36:30|hogs haven mock o...|               |      12437|     US-TN|Mozilla/5.0 (Wind...|f54908750e47c7618...|2147483647|\n",
      "|2022-02-22 01:26:33|dave chappelle la...|               |      12437|     US-VA|Mozilla/5.0 (Wind...|9e619420b6abd447f...|1760862208|\n",
      "|2022-02-22 01:22:51|crown royal butte...|               |      12437|     US-GA|Mozilla/5.0 (Linu...|f379eb1cbc67cf0b2...|2147483647|\n",
      "|2022-02-22 01:04:31|movies indiana jo...|cinemablend.com|      12864|          |Mozilla/5.0 (Linu...|70549c0f0fc22a595...|2147483647|\n",
      "|2022-02-22 01:28:03|     future archives|               |      12437|     US-KY|Mozilla/5.0 (Wind...|0ca693631f439a073...|1668211712|\n",
      "|2022-02-22 01:40:30|the legend of her...|  neoseeker.com|      11847|     US-TX|Mozilla/5.0 (Wind...|7c825e2990a139544...|1211029248|\n",
      "|2022-02-22 01:41:15|7 new movies and ...|               |      12437|     US-OR|Mozilla/5.0 (iPho...|fc62495d829cd0e06...|1635263744|\n",
      "|2022-02-22 01:54:06|afc west - kansas...|               |      12437|     US-IA|Mozilla/5.0 (Linu...|7cccbdf540651e1b2...|2147483647|\n",
      "+-------------------+--------------------+---------------+-----------+----------+--------------------+--------------------+----------+\n",
      "only showing top 20 rows\n",
      "\n"
     ]
    },
    {
     "name": "stderr",
     "output_type": "stream",
     "text": [
      "                                                                                \r"
     ]
    }
   ],
   "source": [
    "union_df.show()"
   ]
  },
  {
   "cell_type": "code",
   "execution_count": 16,
   "id": "39cd52c4",
   "metadata": {},
   "outputs": [
    {
     "name": "stdout",
     "output_type": "stream",
     "text": [
      "root\n",
      " |-- eventDate: string (nullable = true)\n",
      " |-- keyphrase: string (nullable = true)\n",
      " |-- urlDomain: string (nullable = true)\n",
      " |-- publisherId: string (nullable = true)\n",
      " |-- regionCode: string (nullable = true)\n",
      " |-- userAgent: string (nullable = true)\n",
      " |-- hashed_concat_id: string (nullable = true)\n",
      " |-- anon_ip: integer (nullable = true)\n",
      "\n"
     ]
    }
   ],
   "source": [
    "#checking dataframe schema\n",
    "union_df.printSchema()"
   ]
  },
  {
   "cell_type": "code",
   "execution_count": 17,
   "id": "bc1eef54",
   "metadata": {},
   "outputs": [],
   "source": [
    "from pyspark.sql import functions as F"
   ]
  },
  {
   "cell_type": "code",
   "execution_count": 18,
   "id": "6a480a34",
   "metadata": {},
   "outputs": [],
   "source": [
    "union_df=union_df.withColumn(\"eventDate\", F.col(\"eventDate\").cast(\"timestamp\"))"
   ]
  },
  {
   "cell_type": "code",
   "execution_count": 19,
   "id": "afdec9e6",
   "metadata": {},
   "outputs": [
    {
     "name": "stdout",
     "output_type": "stream",
     "text": [
      "root\n",
      " |-- eventDate: timestamp (nullable = true)\n",
      " |-- keyphrase: string (nullable = true)\n",
      " |-- urlDomain: string (nullable = true)\n",
      " |-- publisherId: string (nullable = true)\n",
      " |-- regionCode: string (nullable = true)\n",
      " |-- userAgent: string (nullable = true)\n",
      " |-- hashed_concat_id: string (nullable = true)\n",
      " |-- anon_ip: integer (nullable = true)\n",
      "\n"
     ]
    }
   ],
   "source": [
    "union_df.printSchema()"
   ]
  },
  {
   "cell_type": "code",
   "execution_count": 20,
   "id": "8d4081e6",
   "metadata": {},
   "outputs": [],
   "source": [
    "publisherid_count = union_df.groupBy('publisherid').count()"
   ]
  },
  {
   "cell_type": "code",
   "execution_count": 21,
   "id": "ca78b4dc",
   "metadata": {},
   "outputs": [
    {
     "name": "stderr",
     "output_type": "stream",
     "text": [
      "                                                                                \r"
     ]
    }
   ],
   "source": [
    "publisherid_count_for_graph = publisherid_count.filter(publisherid_count['count'] >1000).sort('count', ascending=False).toPandas()"
   ]
  },
  {
   "cell_type": "code",
   "execution_count": 22,
   "id": "9f286903",
   "metadata": {},
   "outputs": [
    {
     "data": {
      "text/plain": [
       "['12437',\n",
       " '12441',\n",
       " '12160',\n",
       " '11488',\n",
       " '12846',\n",
       " '12413',\n",
       " '12161',\n",
       " '12222',\n",
       " '11515',\n",
       " '12306',\n",
       " '12564',\n",
       " '12414',\n",
       " '12433',\n",
       " '11946',\n",
       " '12780',\n",
       " '12761',\n",
       " '11860',\n",
       " '12162',\n",
       " '12561',\n",
       " '12426']"
      ]
     },
     "execution_count": 22,
     "metadata": {},
     "output_type": "execute_result"
    }
   ],
   "source": [
    "list(publisherid_count_for_graph[0:20]['publisherid'])"
   ]
  },
  {
   "cell_type": "code",
   "execution_count": 23,
   "id": "80fad6d3",
   "metadata": {},
   "outputs": [],
   "source": [
    "from matplotlib import pyplot as plt\n",
    "from matplotlib import rcParams\n",
    "rcParams.update({'figure.autolayout': True})"
   ]
  },
  {
   "cell_type": "code",
   "execution_count": 24,
   "id": "c6034a3a",
   "metadata": {},
   "outputs": [
    {
     "name": "stderr",
     "output_type": "stream",
     "text": [
      "/tmp/ipykernel_53893/1315749136.py:4: SettingWithCopyWarning: \n",
      "A value is trying to be set on a copy of a slice from a DataFrame.\n",
      "Try using .loc[row_indexer,col_indexer] = value instead\n",
      "\n",
      "See the caveats in the documentation: https://pandas.pydata.org/pandas-docs/stable/user_guide/indexing.html#returning-a-view-versus-a-copy\n",
      "  counts['publisherid'] = [x.title() for x in counts['publisherid']]\n"
     ]
    },
    {
     "data": {
      "image/png": "[encoded data removed]",
      "text/plain": [
       "<Figure size 720x432 with 1 Axes>"
      ]
     },
     "metadata": {
      "needs_background": "light"
     },
     "output_type": "display_data"
    }
   ],
   "source": [
    "#plotting graph to show top publishers\n",
    "\n",
    "counts = publisherid_count_for_graph[0:20]\n",
    "counts['publisherid'] = [x.title() for x in counts['publisherid']]\n",
    "\n",
    "fig, ax = plt.subplots(figsize=(10, 6))\n",
    "ax.barh(y=counts['publisherid'], \n",
    "       width=counts['count'])\n",
    "ax.set_title(\"Top publishers\")\n",
    "ax.set_xlabel(\"number_keyword field\")\n",
    "plt.xticks(rotation=90)\n",
    "ax.invert_yaxis()"
   ]
  },
  {
   "cell_type": "code",
   "execution_count": 25,
   "id": "c314bf69",
   "metadata": {},
   "outputs": [],
   "source": [
    "from pyspark.sql.functions import to_date"
   ]
  },
  {
   "cell_type": "code",
   "execution_count": 26,
   "id": "41c0ac81",
   "metadata": {},
   "outputs": [
    {
     "name": "stderr",
     "output_type": "stream",
     "text": [
      "                                                                                \r"
     ]
    }
   ],
   "source": [
    "first_ten_date = union_df.select(to_date(union_df.eventDate, 'dd-MM-yyyy HH:mm:ss').alias('date')) \\\n",
    "    .orderBy('eventDate').take(10)"
   ]
  },
  {
   "cell_type": "code",
   "execution_count": 27,
   "id": "0c85d731",
   "metadata": {
    "scrolled": true
   },
   "outputs": [
    {
     "data": {
      "text/plain": [
       "[Row(date=datetime.date(2022, 2, 22)),\n",
       " Row(date=datetime.date(2022, 2, 22)),\n",
       " Row(date=datetime.date(2022, 2, 22)),\n",
       " Row(date=datetime.date(2022, 2, 22)),\n",
       " Row(date=datetime.date(2022, 2, 22)),\n",
       " Row(date=datetime.date(2022, 2, 22)),\n",
       " Row(date=datetime.date(2022, 2, 22)),\n",
       " Row(date=datetime.date(2022, 2, 22)),\n",
       " Row(date=datetime.date(2022, 2, 22)),\n",
       " Row(date=datetime.date(2022, 2, 22))]"
      ]
     },
     "execution_count": 27,
     "metadata": {},
     "output_type": "execute_result"
    }
   ],
   "source": [
    "first_ten_date"
   ]
  },
  {
   "cell_type": "code",
   "execution_count": 28,
   "id": "117e8b2a",
   "metadata": {},
   "outputs": [],
   "source": [
    "import sys\n",
    "from operator import add\n",
    "from pyspark.ml.feature import Tokenizer\n",
    "from pyspark.ml.feature import StopWordsRemover\n",
    "import pyspark.sql.functions as f\n",
    "from pyspark.ml import Pipeline"
   ]
  },
  {
   "cell_type": "code",
   "execution_count": 29,
   "id": "1a1ab58b",
   "metadata": {},
   "outputs": [],
   "source": [
    "#spliting into keywords and counting\n",
    "sf=union_df.withColumn('word', f.explode(f.split(f.col('keyphrase'), ' '))).groupBy('word').count().sort('count', ascending=False)"
   ]
  },
  {
   "cell_type": "code",
   "execution_count": 30,
   "id": "44d9e1fa",
   "metadata": {},
   "outputs": [
    {
     "name": "stderr",
     "output_type": "stream",
     "text": [
      "[Stage 11:===================================================>  (190 + 2) / 200]\r"
     ]
    },
    {
     "name": "stdout",
     "output_type": "stream",
     "text": [
      "+-----+-------+\n",
      "| word|  count|\n",
      "+-----+-------+\n",
      "|     |2364192|\n",
      "| news|2308584|\n",
      "|   de|1799190|\n",
      "|    a|1711962|\n",
      "|  and|1620867|\n",
      "|    -|1539807|\n",
      "|  the|1463751|\n",
      "|   in|1289241|\n",
      "|   to|1240044|\n",
      "|   en|1094955|\n",
      "|   la|1010274|\n",
      "|   of| 968508|\n",
      "|    e| 677859|\n",
      "|  for| 660309|\n",
      "|video| 506994|\n",
      "|    i| 498261|\n",
      "|   on| 492057|\n",
      "|   tv| 476487|\n",
      "|   le| 464058|\n",
      "|   is| 462480|\n",
      "+-----+-------+\n",
      "only showing top 20 rows\n",
      "\n"
     ]
    },
    {
     "name": "stderr",
     "output_type": "stream",
     "text": [
      "                                                                                \r"
     ]
    }
   ],
   "source": [
    "sf.show()"
   ]
  },
  {
   "cell_type": "code",
   "execution_count": 31,
   "id": "08c12a05",
   "metadata": {},
   "outputs": [],
   "source": [
    "#removing null values in dataframe\n",
    "data_df = union_df.select(\"publisherId\", \"keyphrase\").filter(\"keyphrase is Not NULL\")"
   ]
  },
  {
   "cell_type": "code",
   "execution_count": 32,
   "id": "88113a19",
   "metadata": {
    "scrolled": true
   },
   "outputs": [
    {
     "name": "stdout",
     "output_type": "stream",
     "text": [
      "+-----------+--------------------+\n",
      "|publisherId|           keyphrase|\n",
      "+-----------+--------------------+\n",
      "|      12441|miley cyrus unzip...|\n",
      "|      12437| hawaiian last names|\n",
      "|      12441|lifestyle these p...|\n",
      "|      12441|news costco disco...|\n",
      "|      12437|general news - di...|\n",
      "|      12437|brie larson see t...|\n",
      "|      12437|spring data redis...|\n",
      "|      12437|          main frame|\n",
      "|      12437|Augmented True Li...|\n",
      "|      12441|coast guard suspe...|\n",
      "|      12437|bold beautiful ri...|\n",
      "|      12437|us figure skating...|\n",
      "|      12437|hogs haven mock o...|\n",
      "|      12437|dave chappelle la...|\n",
      "|      12437|crown royal butte...|\n",
      "|      12864|movies indiana jo...|\n",
      "|      12437|     future archives|\n",
      "|      11847|the legend of her...|\n",
      "|      12437|7 new movies and ...|\n",
      "|      12437|afc west - kansas...|\n",
      "+-----------+--------------------+\n",
      "only showing top 20 rows\n",
      "\n"
     ]
    }
   ],
   "source": [
    "#show data_df\n",
    "data_df.show()"
   ]
  },
  {
   "cell_type": "code",
   "execution_count": 33,
   "id": "fa6710fa",
   "metadata": {},
   "outputs": [],
   "source": [
    "#converts the input string to lowercase and splits it by white spaces\n",
    "tokenizer = Tokenizer(inputCol=\"keyphrase\", outputCol=\"words_token\")"
   ]
  },
  {
   "cell_type": "code",
   "execution_count": 34,
   "id": "035d3532",
   "metadata": {},
   "outputs": [],
   "source": [
    "#apply transform\n",
    "tokenized = tokenizer.transform(data_df).select('publisherid','words_token')"
   ]
  },
  {
   "cell_type": "code",
   "execution_count": 35,
   "id": "f2a894c9",
   "metadata": {},
   "outputs": [
    {
     "name": "stdout",
     "output_type": "stream",
     "text": [
      "+-----------+--------------------+\n",
      "|publisherid|         words_token|\n",
      "+-----------+--------------------+\n",
      "|      12441|[miley, cyrus, un...|\n",
      "|      12437|[hawaiian, last, ...|\n",
      "|      12441|[lifestyle, these...|\n",
      "|      12441|[news, costco, di...|\n",
      "|      12437|[general, news, -...|\n",
      "|      12437|[brie, larson, se...|\n",
      "|      12437|[spring, data, re...|\n",
      "|      12437|       [main, frame]|\n",
      "|      12437|[augmented, true,...|\n",
      "|      12441|[coast, guard, su...|\n",
      "|      12437|[bold, beautiful,...|\n",
      "|      12437|[us, figure, skat...|\n",
      "|      12437|[hogs, haven, moc...|\n",
      "|      12437|[dave, chappelle,...|\n",
      "|      12437|[crown, royal, bu...|\n",
      "|      12864|[movies, indiana,...|\n",
      "|      12437|  [future, archives]|\n",
      "|      11847|[the, legend, of,...|\n",
      "|      12437|[7, new, movies, ...|\n",
      "|      12437|[afc, west, -, ka...|\n",
      "+-----------+--------------------+\n",
      "only showing top 20 rows\n",
      "\n"
     ]
    }
   ],
   "source": [
    "#show tokenized\n",
    "tokenized.show()"
   ]
  },
  {
   "cell_type": "code",
   "execution_count": 36,
   "id": "391c560f",
   "metadata": {},
   "outputs": [],
   "source": [
    "#filters out stop words from words_token\n",
    "remover = StopWordsRemover(inputCol='words_token', outputCol='words_clean')"
   ]
  },
  {
   "cell_type": "code",
   "execution_count": 37,
   "id": "63781f1f",
   "metadata": {},
   "outputs": [],
   "source": [
    "#apply transform\n",
    "data_clean = remover.transform(tokenized).select('publisherid', 'words_clean')"
   ]
  },
  {
   "cell_type": "code",
   "execution_count": 38,
   "id": "2fb1d6a5",
   "metadata": {},
   "outputs": [
    {
     "name": "stdout",
     "output_type": "stream",
     "text": [
      "+-----------+--------------------+\n",
      "|publisherid|         words_clean|\n",
      "+-----------+--------------------+\n",
      "|      12441|[miley, cyrus, un...|\n",
      "|      12437|[hawaiian, last, ...|\n",
      "|      12441|[lifestyle, peopl...|\n",
      "|      12441|[news, costco, di...|\n",
      "|      12437|[general, news, -...|\n",
      "|      12437|[brie, larson, se...|\n",
      "|      12437|[spring, data, re...|\n",
      "|      12437|       [main, frame]|\n",
      "|      12437|[augmented, true,...|\n",
      "|      12441|[coast, guard, su...|\n",
      "|      12437|[bold, beautiful,...|\n",
      "|      12437|[us, figure, skat...|\n",
      "|      12437|[hogs, haven, moc...|\n",
      "|      12437|[dave, chappelle,...|\n",
      "|      12437|[crown, royal, bu...|\n",
      "|      12864|[movies, indiana,...|\n",
      "|      12437|  [future, archives]|\n",
      "|      11847|[legend, heroes, ...|\n",
      "|      12437|[7, new, movies, ...|\n",
      "|      12437|[afc, west, -, ka...|\n",
      "+-----------+--------------------+\n",
      "only showing top 20 rows\n",
      "\n"
     ]
    }
   ],
   "source": [
    "data_clean.show()"
   ]
  },
  {
   "cell_type": "code",
   "execution_count": 40,
   "id": "475a125c",
   "metadata": {},
   "outputs": [],
   "source": [
    "result = data_clean.withColumn('word', f.explode(f.col('words_clean'))) \\\n",
    "  .groupBy('word') \\\n",
    "  .count().sort('count', ascending=False)"
   ]
  },
  {
   "cell_type": "code",
   "execution_count": 41,
   "id": "5a3fc139",
   "metadata": {},
   "outputs": [],
   "source": [
    "new_result =data_clean.select(\"*\").withColumn('word', f.explode(f.col('words_clean'))) \\\n",
    "  .groupBy('word', 'publisherid') \\\n",
    "  .count().sort('count', ascending=False)"
   ]
  },
  {
   "cell_type": "code",
   "execution_count": 42,
   "id": "f4047378",
   "metadata": {},
   "outputs": [
    {
     "name": "stderr",
     "output_type": "stream",
     "text": [
      "[Stage 16:====================================================> (195 + 2) / 200]\r"
     ]
    },
    {
     "name": "stdout",
     "output_type": "stream",
     "text": [
      "+------+-------+\n",
      "|  word|  count|\n",
      "+------+-------+\n",
      "|      |2364192|\n",
      "|  news|2355078|\n",
      "|    de|1801179|\n",
      "|     -|1539807|\n",
      "|    en|1095573|\n",
      "|    la|1013835|\n",
      "|     e| 679734|\n",
      "|    tv| 515205|\n",
      "| video| 509676|\n",
      "|    le| 465087|\n",
      "|    es| 443616|\n",
      "|    un| 402609|\n",
      "|    di| 387084|\n",
      "|    us| 384423|\n",
      "|    il| 353142|\n",
      "|futbol| 346983|\n",
      "|   que| 332037|\n",
      "|  best| 324978|\n",
      "|   les| 307719|\n",
      "|   new| 302583|\n",
      "+------+-------+\n",
      "only showing top 20 rows\n",
      "\n"
     ]
    },
    {
     "name": "stderr",
     "output_type": "stream",
     "text": [
      "                                                                                \r"
     ]
    }
   ],
   "source": [
    "result.show()"
   ]
  },
  {
   "cell_type": "code",
   "execution_count": 43,
   "id": "f65fe069",
   "metadata": {},
   "outputs": [
    {
     "name": "stderr",
     "output_type": "stream",
     "text": [
      "[Stage 18:===================================================>  (191 + 2) / 200]\r"
     ]
    },
    {
     "name": "stdout",
     "output_type": "stream",
     "text": [
      "+--------+-----------+-------+\n",
      "|    word|publisherid|  count|\n",
      "+--------+-----------+-------+\n",
      "|       -|      12437|1526499|\n",
      "|    news|      12441| 877440|\n",
      "|        |      12160| 800946|\n",
      "|      en|      12441| 452511|\n",
      "|    news|      12437| 377802|\n",
      "|        |      11488| 366312|\n",
      "|      de|      12441| 313293|\n",
      "|      us|      12441| 289884|\n",
      "|       e|      12441| 264426|\n",
      "|  futbol|      12160| 262689|\n",
      "|      de|      12160| 252279|\n",
      "|    news|      11488| 250569|\n",
      "|   video|      12437| 242190|\n",
      "|    news|      12413| 237048|\n",
      "|      la|      12441| 230994|\n",
      "|      es|      12160| 216288|\n",
      "|      ar|      12441| 199671|\n",
      "|        |      12441| 194991|\n",
      "|      tv|      12441| 188436|\n",
      "|politics|      12437| 184032|\n",
      "+--------+-----------+-------+\n",
      "only showing top 20 rows\n",
      "\n"
     ]
    },
    {
     "name": "stderr",
     "output_type": "stream",
     "text": [
      "                                                                                \r"
     ]
    }
   ],
   "source": [
    "new_result.show()"
   ]
  },
  {
   "cell_type": "code",
   "execution_count": 44,
   "id": "0fd08dff",
   "metadata": {},
   "outputs": [],
   "source": [
    "import pyspark.sql.functions as F"
   ]
  },
  {
   "cell_type": "code",
   "execution_count": 45,
   "id": "71f3b3a0",
   "metadata": {},
   "outputs": [],
   "source": [
    "#create column for length of words\n",
    "new_result= new_result.withColumn(\"length_of_word\", F.length(\"word\"))"
   ]
  },
  {
   "cell_type": "code",
   "execution_count": 46,
   "id": "fb36eee5",
   "metadata": {},
   "outputs": [
    {
     "name": "stderr",
     "output_type": "stream",
     "text": [
      "[Stage 20:====================================================> (193 + 2) / 200]\r"
     ]
    },
    {
     "name": "stdout",
     "output_type": "stream",
     "text": [
      "+--------+-----------+-------+--------------+\n",
      "|word    |publisherid|count  |length_of_word|\n",
      "+--------+-----------+-------+--------------+\n",
      "|-       |12437      |1526499|1             |\n",
      "|news    |12441      |877440 |4             |\n",
      "|        |12160      |800946 |0             |\n",
      "|en      |12441      |452511 |2             |\n",
      "|news    |12437      |377802 |4             |\n",
      "|        |11488      |366312 |0             |\n",
      "|de      |12441      |313293 |2             |\n",
      "|us      |12441      |289884 |2             |\n",
      "|e       |12441      |264426 |1             |\n",
      "|futbol  |12160      |262689 |6             |\n",
      "|de      |12160      |252279 |2             |\n",
      "|news    |11488      |250569 |4             |\n",
      "|video   |12437      |242190 |5             |\n",
      "|news    |12413      |237048 |4             |\n",
      "|la      |12441      |230994 |2             |\n",
      "|es      |12160      |216288 |2             |\n",
      "|ar      |12441      |199671 |2             |\n",
      "|        |12441      |194991 |0             |\n",
      "|tv      |12441      |188436 |2             |\n",
      "|politics|12437      |184032 |8             |\n",
      "+--------+-----------+-------+--------------+\n",
      "only showing top 20 rows\n",
      "\n"
     ]
    },
    {
     "name": "stderr",
     "output_type": "stream",
     "text": [
      "                                                                                \r"
     ]
    }
   ],
   "source": [
    "#show length of words\n",
    "new_result.show(truncate=False)"
   ]
  },
  {
   "cell_type": "code",
   "execution_count": 47,
   "id": "503ba44c",
   "metadata": {},
   "outputs": [],
   "source": [
    "#find when length of word is not zero\n",
    "new_result=new_result.filter(new_result.length_of_word!=0)"
   ]
  },
  {
   "cell_type": "code",
   "execution_count": 51,
   "id": "7b26844c",
   "metadata": {},
   "outputs": [
    {
     "name": "stderr",
     "output_type": "stream",
     "text": [
      "[Stage 24:===================================================>  (190 + 2) / 200]\r"
     ]
    },
    {
     "name": "stdout",
     "output_type": "stream",
     "text": [
      "+--------+-----------+-------+--------------+\n",
      "|    word|publisherid|  count|length_of_word|\n",
      "+--------+-----------+-------+--------------+\n",
      "|       -|      12437|1526499|             1|\n",
      "|    news|      12441| 877440|             4|\n",
      "|      en|      12441| 452511|             2|\n",
      "|    news|      12437| 377802|             4|\n",
      "|      de|      12441| 313293|             2|\n",
      "|      us|      12441| 289884|             2|\n",
      "|       e|      12441| 264426|             1|\n",
      "|  futbol|      12160| 262689|             6|\n",
      "|      de|      12160| 252279|             2|\n",
      "|    news|      11488| 250569|             4|\n",
      "|   video|      12437| 242190|             5|\n",
      "|    news|      12413| 237048|             4|\n",
      "|      la|      12441| 230994|             2|\n",
      "|      es|      12160| 216288|             2|\n",
      "|      ar|      12441| 199671|             2|\n",
      "|      tv|      12441| 188436|             2|\n",
      "|politics|      12437| 184032|             8|\n",
      "|      de|      11515| 178686|             2|\n",
      "|   cards|      12437| 174927|             5|\n",
      "|      de|      12846| 169680|             2|\n",
      "+--------+-----------+-------+--------------+\n",
      "only showing top 20 rows\n",
      "\n"
     ]
    },
    {
     "name": "stderr",
     "output_type": "stream",
     "text": [
      "                                                                                \r"
     ]
    }
   ],
   "source": [
    "#show result\n",
    "new_result.show()"
   ]
  },
  {
   "cell_type": "code",
   "execution_count": 58,
   "id": "155c1ce6",
   "metadata": {},
   "outputs": [],
   "source": [
    "#dropping length\n",
    "new_result = new_result.drop(\"length_of_word\")"
   ]
  },
  {
   "cell_type": "code",
   "execution_count": 59,
   "id": "18939577",
   "metadata": {
    "scrolled": true
   },
   "outputs": [
    {
     "name": "stderr",
     "output_type": "stream",
     "text": [
      "[Stage 30:====================================================> (193 + 2) / 200]\r"
     ]
    },
    {
     "name": "stdout",
     "output_type": "stream",
     "text": [
      "+--------+-----------+-------+\n",
      "|    word|publisherid|  count|\n",
      "+--------+-----------+-------+\n",
      "|       -|      12437|1526499|\n",
      "|    news|      12441| 877440|\n",
      "|      en|      12441| 452511|\n",
      "|    news|      12437| 377802|\n",
      "|      de|      12441| 313293|\n",
      "|      us|      12441| 289884|\n",
      "|       e|      12441| 264426|\n",
      "|  futbol|      12160| 262689|\n",
      "|      de|      12160| 252279|\n",
      "|    news|      11488| 250569|\n",
      "|   video|      12437| 242190|\n",
      "|    news|      12413| 237048|\n",
      "|      la|      12441| 230994|\n",
      "|      es|      12160| 216288|\n",
      "|      ar|      12441| 199671|\n",
      "|      tv|      12441| 188436|\n",
      "|politics|      12437| 184032|\n",
      "|      de|      11515| 178686|\n",
      "|   cards|      12437| 174927|\n",
      "|      de|      12846| 169680|\n",
      "+--------+-----------+-------+\n",
      "only showing top 20 rows\n",
      "\n"
     ]
    },
    {
     "name": "stderr",
     "output_type": "stream",
     "text": [
      "                                                                                \r"
     ]
    }
   ],
   "source": [
    "new_result.show()"
   ]
  },
  {
   "cell_type": "code",
   "execution_count": 60,
   "id": "ce4dca27",
   "metadata": {},
   "outputs": [
    {
     "name": "stderr",
     "output_type": "stream",
     "text": [
      "                                                                                \r"
     ]
    }
   ],
   "source": [
    "pandas_df = new_result.toPandas()"
   ]
  },
  {
   "cell_type": "code",
   "execution_count": null,
   "id": "505445e4",
   "metadata": {},
   "outputs": [],
   "source": [
    "pandas_df.sort_values(by='count',ascending=False).plot(x ='publisherid', y='count', kind = 'bar')"
   ]
  },
  {
   "cell_type": "code",
   "execution_count": null,
   "id": "407b393f",
   "metadata": {},
   "outputs": [],
   "source": [
    "pandas_df.sort_values(by='count',ascending=False).plot(x ='word', y='count', kind = 'bar')"
   ]
  },
  {
   "cell_type": "code",
   "execution_count": null,
   "id": "a108359f",
   "metadata": {
    "scrolled": false
   },
   "outputs": [],
   "source": [
    "list_df = new_result.select(\"word\", \"count\").rdd.flatMap(lambda x: x).collect()"
   ]
  },
  {
   "cell_type": "code",
   "execution_count": null,
   "id": "d0b1e280",
   "metadata": {},
   "outputs": [],
   "source": [
    "from pyspark.sql.functions import col"
   ]
  },
  {
   "cell_type": "code",
   "execution_count": null,
   "id": "31444766",
   "metadata": {},
   "outputs": [],
   "source": [
    "import numpy as np \n",
    "import matplotlib.pyplot as plt \n",
    "import pandas as pd"
   ]
  },
  {
   "cell_type": "code",
   "execution_count": null,
   "id": "2e366f85",
   "metadata": {},
   "outputs": [],
   "source": [
    "#select distinct publishers\n",
    "publisherid_df = union_df.select(\"publisherId\").distinct().rdd.flatMap(lambda x: x).collect()"
   ]
  },
  {
   "cell_type": "code",
   "execution_count": null,
   "id": "966891ea",
   "metadata": {},
   "outputs": [],
   "source": []
  }
 ],
 "metadata": {
  "kernelspec": {
   "display_name": "Python 3 (ipykernel)",
   "language": "python",
   "name": "python3"
  },
  "language_info": {
   "codemirror_mode": {
    "name": "ipython",
    "version": 3
   },
   "file_extension": ".py",
   "mimetype": "text/x-python",
   "name": "python",
   "nbconvert_exporter": "python",
   "pygments_lexer": "ipython3",
   "version": "3.9.5"
  }
 },
 "nbformat": 4,
 "nbformat_minor": 5
}
