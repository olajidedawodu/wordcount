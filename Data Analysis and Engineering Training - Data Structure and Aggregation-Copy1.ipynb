{
 "cells": [
  {
   "cell_type": "code",
   "execution_count": 1,
   "id": "e65711a7",
   "metadata": {},
   "outputs": [
    {
     "name": "stdout",
     "output_type": "stream",
     "text": [
      "Requirement already satisfied: pyspark in ./.local/lib/python3.9/site-packages (3.2.0)\n",
      "Requirement already satisfied: py4j==0.10.9.2 in ./.local/lib/python3.9/site-packages (from pyspark) (0.10.9.2)\n",
      "Note: you may need to restart the kernel to use updated packages.\n"
     ]
    }
   ],
   "source": [
    "pip install pyspark"
   ]
  },
  {
   "cell_type": "code",
   "execution_count": 2,
   "id": "32afa4c7",
   "metadata": {},
   "outputs": [],
   "source": [
    "import findspark\n",
    "findspark.init('/home/ola/spark-3.0.3')"
   ]
  },
  {
   "cell_type": "code",
   "execution_count": 3,
   "id": "251fef40",
   "metadata": {},
   "outputs": [],
   "source": [
    "import pyspark\n",
    "from pyspark.sql import SparkSession\n",
    "from pyspark import SparkContext\n",
    "import urllib\n",
    "import pandas as pd\n",
    "import wget"
   ]
  },
  {
   "cell_type": "code",
   "execution_count": 4,
   "id": "9e2ec67e",
   "metadata": {},
   "outputs": [
    {
     "name": "stderr",
     "output_type": "stream",
     "text": [
      "22/04/04 16:42:09 WARN Utils: Your hostname, ola-virtual-machine resolves to a loopback address: 127.0.1.1; using 192.168.181.130 instead (on interface ens33)\n",
      "22/04/04 16:42:09 WARN Utils: Set SPARK_LOCAL_IP if you need to bind to another address\n",
      "WARNING: An illegal reflective access operation has occurred\n",
      "WARNING: Illegal reflective access by org.apache.spark.unsafe.Platform (file:/home/ola/spark-3.0.3/jars/spark-unsafe_2.12-3.0.3.jar) to constructor java.nio.DirectByteBuffer(long,int)\n",
      "WARNING: Please consider reporting this to the maintainers of org.apache.spark.unsafe.Platform\n",
      "WARNING: Use --illegal-access=warn to enable warnings of further illegal reflective access operations\n",
      "WARNING: All illegal access operations will be denied in a future release\n",
      "22/04/04 16:42:10 WARN NativeCodeLoader: Unable to load native-hadoop library for your platform... using builtin-java classes where applicable\n",
      "Using Spark's default log4j profile: org/apache/spark/log4j-defaults.properties\n",
      "Setting default log level to \"WARN\".\n",
      "To adjust logging level use sc.setLogLevel(newLevel). For SparkR, use setLogLevel(newLevel).\n"
     ]
    }
   ],
   "source": [
    "spark = SparkSession.builder.appName (\"oladata\").getOrCreate()"
   ]
  },
  {
   "cell_type": "code",
   "execution_count": 5,
   "id": "fa27227e",
   "metadata": {},
   "outputs": [],
   "source": [
    "import tarfile"
   ]
  },
  {
   "cell_type": "code",
   "execution_count": 6,
   "id": "c1bafcfe",
   "metadata": {},
   "outputs": [],
   "source": [
    "# df= urllib.request.urlretrieve(\"https://cdn.captifytechnologies.com/samples/sampled_kws.tar.gz\", \"sampled_kws.tar.gz\")"
   ]
  },
  {
   "cell_type": "code",
   "execution_count": 7,
   "id": "740b4218",
   "metadata": {},
   "outputs": [],
   "source": [
    "# tf = tarfile.open(\"sampled_kws.tar.gz\")"
   ]
  },
  {
   "cell_type": "code",
   "execution_count": 8,
   "id": "91c82081",
   "metadata": {},
   "outputs": [],
   "source": [
    "# tf.extractall('./zip_file')"
   ]
  },
  {
   "cell_type": "code",
   "execution_count": 9,
   "id": "d582039b",
   "metadata": {},
   "outputs": [
    {
     "name": "stderr",
     "output_type": "stream",
     "text": [
      "                                                                                \r"
     ]
    }
   ],
   "source": [
    "df1 =spark.read.format(\"parquet\").load(\"./zip_file/sampled_kws/day=20220222\")"
   ]
  },
  {
   "cell_type": "code",
   "execution_count": 10,
   "id": "48481776",
   "metadata": {},
   "outputs": [],
   "source": [
    "df2 = spark.read.format(\"parquet\").load(\"./zip_file/sampled_kws/day=20220223\")"
   ]
  },
  {
   "cell_type": "code",
   "execution_count": 11,
   "id": "990fff4b",
   "metadata": {},
   "outputs": [],
   "source": [
    "df3 = spark.read.format(\"parquet\").load(\"./zip_file/sampled_kws/day=20220224\")"
   ]
  },
  {
   "cell_type": "code",
   "execution_count": 12,
   "id": "ceb5a6f3",
   "metadata": {},
   "outputs": [],
   "source": [
    "from functools import reduce\n",
    "from pyspark.sql import DataFrame"
   ]
  },
  {
   "cell_type": "code",
   "execution_count": 13,
   "id": "7d3569da",
   "metadata": {},
   "outputs": [],
   "source": [
    "df_total =[df1,df2,df3]"
   ]
  },
  {
   "cell_type": "code",
   "execution_count": 14,
   "id": "a59dd891",
   "metadata": {},
   "outputs": [],
   "source": [
    "#merging all data df1, df2 and df3 together because they\n",
    "union_df = reduce(DataFrame.unionAll,df_total)"
   ]
  },
  {
   "cell_type": "code",
   "execution_count": 15,
   "id": "a6400aee",
   "metadata": {},
   "outputs": [
    {
     "name": "stdout",
     "output_type": "stream",
     "text": [
      "+-------------------+--------------------+---------------+-----------+----------+--------------------+--------------------+----------+\n",
      "|          eventDate|           keyphrase|      urlDomain|publisherId|regionCode|           userAgent|    hashed_concat_id|   anon_ip|\n",
      "+-------------------+--------------------+---------------+-----------+----------+--------------------+--------------------+----------+\n",
      "|2022-02-22 01:12:28|miley cyrus unzip...|  inquisitr.com|      12441|          |Mozilla/5.0 (Linu...|d1f758694c32be658...|2147483647|\n",
      "|2022-02-22 01:21:54| hawaiian last names|               |      12437|     US-FL|Mozilla/5.0 (Linu...|23f340c7e217dc122...|1234471680|\n",
      "|2022-02-22 01:02:29|lifestyle these p...|moneyawaits.com|      12441|          |Mozilla/5.0 (Linu...|4f8f018a71b986fff...| 643723776|\n",
      "|2022-02-22 01:48:33|news costco disco...|    eatthis.com|      12441|          |Mozilla/5.0 (Linu...|1f33a4cfee82f158d...|1074392832|\n",
      "|2022-02-22 01:18:54|general news - di...|               |      12437|     US-MO|Mozilla/5.0 (Linu...|bfaa2a17d8d6c8f72...|2147483647|\n",
      "|2022-02-22 01:21:37|brie larson see t...|               |      12437|     US-NY|Mozilla/5.0 (Linu...|352309d288ed17de4...|1627020800|\n",
      "|2022-02-22 01:30:59|spring data redis...|               |      12437|     US-CA|Mozilla/5.0 (Wind...|b54eb9076bc8dbec1...|1505474816|\n",
      "|2022-02-22 01:31:27|          main frame|               |      12437|     US-WI|Mozilla/5.0 (Linu...|9962edbc375afb528...|1180452352|\n",
      "|2022-02-22 01:45:37|Augmented True Li...|               |      12437|     US-IL|Mozilla/5.0 (Wind...|e73cf0d6b78d0b09b...|1228028672|\n",
      "|2022-02-22 01:40:00|coast guard suspe...|   fox8live.com|      12441|          |Mozilla/5.0 (Linu...|ffcab12b5f4f277b0...|2147483647|\n",
      "|2022-02-22 01:11:40|bold beautiful ri...|               |      12437|     US-MI|Mozilla/5.0 (Wind...|d4632d6454f987fb5...|1633624064|\n",
      "|2022-02-22 01:34:49|us figure skating...|               |      12437|          |Mozilla/5.0 (Linu...|cc5c79727479f2306...| 137054464|\n",
      "|2022-02-22 01:36:30|hogs haven mock o...|               |      12437|     US-TN|Mozilla/5.0 (Wind...|f54908750e47c7618...|2147483647|\n",
      "|2022-02-22 01:26:33|dave chappelle la...|               |      12437|     US-VA|Mozilla/5.0 (Wind...|9e619420b6abd447f...|1760862208|\n",
      "|2022-02-22 01:22:51|crown royal butte...|               |      12437|     US-GA|Mozilla/5.0 (Linu...|f379eb1cbc67cf0b2...|2147483647|\n",
      "|2022-02-22 01:04:31|movies indiana jo...|cinemablend.com|      12864|          |Mozilla/5.0 (Linu...|70549c0f0fc22a595...|2147483647|\n",
      "|2022-02-22 01:28:03|     future archives|               |      12437|     US-KY|Mozilla/5.0 (Wind...|0ca693631f439a073...|1668211712|\n",
      "|2022-02-22 01:40:30|the legend of her...|  neoseeker.com|      11847|     US-TX|Mozilla/5.0 (Wind...|7c825e2990a139544...|1211029248|\n",
      "|2022-02-22 01:41:15|7 new movies and ...|               |      12437|     US-OR|Mozilla/5.0 (iPho...|fc62495d829cd0e06...|1635263744|\n",
      "|2022-02-22 01:54:06|afc west - kansas...|               |      12437|     US-IA|Mozilla/5.0 (Linu...|7cccbdf540651e1b2...|2147483647|\n",
      "+-------------------+--------------------+---------------+-----------+----------+--------------------+--------------------+----------+\n",
      "only showing top 20 rows\n",
      "\n"
     ]
    }
   ],
   "source": [
    "union_df.show()"
   ]
  },
  {
   "cell_type": "code",
   "execution_count": 16,
   "id": "39cd52c4",
   "metadata": {},
   "outputs": [
    {
     "name": "stdout",
     "output_type": "stream",
     "text": [
      "root\n",
      " |-- eventDate: string (nullable = true)\n",
      " |-- keyphrase: string (nullable = true)\n",
      " |-- urlDomain: string (nullable = true)\n",
      " |-- publisherId: string (nullable = true)\n",
      " |-- regionCode: string (nullable = true)\n",
      " |-- userAgent: string (nullable = true)\n",
      " |-- hashed_concat_id: string (nullable = true)\n",
      " |-- anon_ip: integer (nullable = true)\n",
      "\n"
     ]
    }
   ],
   "source": [
    "#checking dataframe schema\n",
    "union_df.printSchema()"
   ]
  },
  {
   "cell_type": "code",
   "execution_count": 17,
   "id": "117e8b2a",
   "metadata": {},
   "outputs": [],
   "source": [
    "import sys\n",
    "from operator import add\n",
    "from pyspark.ml.feature import Tokenizer\n",
    "from pyspark.ml.feature import StopWordsRemover\n",
    "import pyspark.sql.functions as f"
   ]
  },
  {
   "cell_type": "code",
   "execution_count": 18,
   "id": "1a1ab58b",
   "metadata": {},
   "outputs": [],
   "source": [
    "#spliting into keywords and counting\n",
    "sf=union_df.withColumn('word', f.explode(f.split(f.col('keyphrase'), ' '))).groupBy('word').count().sort('count', ascending=False)"
   ]
  },
  {
   "cell_type": "code",
   "execution_count": 19,
   "id": "44d9e1fa",
   "metadata": {},
   "outputs": [
    {
     "name": "stderr",
     "output_type": "stream",
     "text": [
      "[Stage 5:=====================================================> (193 + 2) / 200]\r"
     ]
    },
    {
     "name": "stdout",
     "output_type": "stream",
     "text": [
      "+-----+-------+\n",
      "| word|  count|\n",
      "+-----+-------+\n",
      "|     |2364192|\n",
      "| news|2308584|\n",
      "|   de|1799190|\n",
      "|    a|1711962|\n",
      "|  and|1620867|\n",
      "|    -|1539807|\n",
      "|  the|1463751|\n",
      "|   in|1289241|\n",
      "|   to|1240044|\n",
      "|   en|1094955|\n",
      "|   la|1010274|\n",
      "|   of| 968508|\n",
      "|    e| 677859|\n",
      "|  for| 660309|\n",
      "|video| 506994|\n",
      "|    i| 498261|\n",
      "|   on| 492057|\n",
      "|   tv| 476487|\n",
      "|   le| 464058|\n",
      "|   is| 462480|\n",
      "+-----+-------+\n",
      "only showing top 20 rows\n",
      "\n"
     ]
    },
    {
     "name": "stderr",
     "output_type": "stream",
     "text": [
      "                                                                                \r"
     ]
    }
   ],
   "source": [
    "sf.show()"
   ]
  },
  {
   "cell_type": "code",
   "execution_count": 20,
   "id": "fa6710fa",
   "metadata": {},
   "outputs": [],
   "source": [
    "#converts the input string to lowercase and splits it by white spaces\n",
    "tokenizer = Tokenizer(inputCol=\"keyphrase\", outputCol=\"words_token\")"
   ]
  },
  {
   "cell_type": "code",
   "execution_count": 21,
   "id": "035d3532",
   "metadata": {},
   "outputs": [],
   "source": [
    "#apply transform\n",
    "tokenized = tokenizer.transform(union_df).select('hashed_concat_id','words_token')"
   ]
  },
  {
   "cell_type": "code",
   "execution_count": 22,
   "id": "f2a894c9",
   "metadata": {},
   "outputs": [
    {
     "name": "stdout",
     "output_type": "stream",
     "text": [
      "+--------------------+--------------------+\n",
      "|    hashed_concat_id|         words_token|\n",
      "+--------------------+--------------------+\n",
      "|d1f758694c32be658...|[miley, cyrus, un...|\n",
      "|23f340c7e217dc122...|[hawaiian, last, ...|\n",
      "|4f8f018a71b986fff...|[lifestyle, these...|\n",
      "|1f33a4cfee82f158d...|[news, costco, di...|\n",
      "|bfaa2a17d8d6c8f72...|[general, news, -...|\n",
      "|352309d288ed17de4...|[brie, larson, se...|\n",
      "|b54eb9076bc8dbec1...|[spring, data, re...|\n",
      "|9962edbc375afb528...|       [main, frame]|\n",
      "|e73cf0d6b78d0b09b...|[augmented, true,...|\n",
      "|ffcab12b5f4f277b0...|[coast, guard, su...|\n",
      "|d4632d6454f987fb5...|[bold, beautiful,...|\n",
      "|cc5c79727479f2306...|[us, figure, skat...|\n",
      "|f54908750e47c7618...|[hogs, haven, moc...|\n",
      "|9e619420b6abd447f...|[dave, chappelle,...|\n",
      "|f379eb1cbc67cf0b2...|[crown, royal, bu...|\n",
      "|70549c0f0fc22a595...|[movies, indiana,...|\n",
      "|0ca693631f439a073...|  [future, archives]|\n",
      "|7c825e2990a139544...|[the, legend, of,...|\n",
      "|fc62495d829cd0e06...|[7, new, movies, ...|\n",
      "|7cccbdf540651e1b2...|[afc, west, -, ka...|\n",
      "+--------------------+--------------------+\n",
      "only showing top 20 rows\n",
      "\n"
     ]
    }
   ],
   "source": [
    "#show tokenized\n",
    "tokenized.show()"
   ]
  },
  {
   "cell_type": "code",
   "execution_count": 23,
   "id": "391c560f",
   "metadata": {},
   "outputs": [],
   "source": [
    "#filters out stop words from words_token\n",
    "remover = StopWordsRemover(inputCol='words_token', outputCol='words_clean')"
   ]
  },
  {
   "cell_type": "code",
   "execution_count": 24,
   "id": "63781f1f",
   "metadata": {},
   "outputs": [],
   "source": [
    "#apply transform\n",
    "data_clean = remover.transform(tokenized).select('hashed_concat_id', 'words_clean')"
   ]
  },
  {
   "cell_type": "code",
   "execution_count": 25,
   "id": "2fb1d6a5",
   "metadata": {},
   "outputs": [
    {
     "name": "stdout",
     "output_type": "stream",
     "text": [
      "+--------------------+--------------------+\n",
      "|    hashed_concat_id|         words_clean|\n",
      "+--------------------+--------------------+\n",
      "|d1f758694c32be658...|[miley, cyrus, un...|\n",
      "|23f340c7e217dc122...|[hawaiian, last, ...|\n",
      "|4f8f018a71b986fff...|[lifestyle, peopl...|\n",
      "|1f33a4cfee82f158d...|[news, costco, di...|\n",
      "|bfaa2a17d8d6c8f72...|[general, news, -...|\n",
      "|352309d288ed17de4...|[brie, larson, se...|\n",
      "|b54eb9076bc8dbec1...|[spring, data, re...|\n",
      "|9962edbc375afb528...|       [main, frame]|\n",
      "|e73cf0d6b78d0b09b...|[augmented, true,...|\n",
      "|ffcab12b5f4f277b0...|[coast, guard, su...|\n",
      "|d4632d6454f987fb5...|[bold, beautiful,...|\n",
      "|cc5c79727479f2306...|[us, figure, skat...|\n",
      "|f54908750e47c7618...|[hogs, haven, moc...|\n",
      "|9e619420b6abd447f...|[dave, chappelle,...|\n",
      "|f379eb1cbc67cf0b2...|[crown, royal, bu...|\n",
      "|70549c0f0fc22a595...|[movies, indiana,...|\n",
      "|0ca693631f439a073...|  [future, archives]|\n",
      "|7c825e2990a139544...|[legend, heroes, ...|\n",
      "|fc62495d829cd0e06...|[7, new, movies, ...|\n",
      "|7cccbdf540651e1b2...|[afc, west, -, ka...|\n",
      "+--------------------+--------------------+\n",
      "only showing top 20 rows\n",
      "\n"
     ]
    }
   ],
   "source": [
    "data_clean.show()"
   ]
  },
  {
   "cell_type": "code",
   "execution_count": 26,
   "id": "475a125c",
   "metadata": {},
   "outputs": [],
   "source": [
    "result = data_clean.withColumn('word', f.explode(f.col('words_clean'))) \\\n",
    "  .groupBy('word') \\\n",
    "  .count().sort('count', ascending=False)"
   ]
  },
  {
   "cell_type": "code",
   "execution_count": 27,
   "id": "f4047378",
   "metadata": {},
   "outputs": [
    {
     "name": "stderr",
     "output_type": "stream",
     "text": [
      "[Stage 9:======================================================>(197 + 2) / 200]\r"
     ]
    },
    {
     "name": "stdout",
     "output_type": "stream",
     "text": [
      "+------+-------+\n",
      "|  word|  count|\n",
      "+------+-------+\n",
      "|      |2364192|\n",
      "|  news|2355078|\n",
      "|    de|1801179|\n",
      "|     -|1539807|\n",
      "|    en|1095573|\n",
      "|    la|1013835|\n",
      "|     e| 679734|\n",
      "|    tv| 515205|\n",
      "| video| 509676|\n",
      "|    le| 465087|\n",
      "|    es| 443616|\n",
      "|    un| 402609|\n",
      "|    di| 387084|\n",
      "|    us| 384423|\n",
      "|    il| 353142|\n",
      "|futbol| 346983|\n",
      "|   que| 332037|\n",
      "|  best| 324978|\n",
      "|   les| 307719|\n",
      "|   new| 302583|\n",
      "+------+-------+\n",
      "only showing top 20 rows\n",
      "\n"
     ]
    },
    {
     "name": "stderr",
     "output_type": "stream",
     "text": [
      "                                                                                \r"
     ]
    }
   ],
   "source": [
    "result.show()"
   ]
  },
  {
   "cell_type": "code",
   "execution_count": 28,
   "id": "0fd08dff",
   "metadata": {},
   "outputs": [],
   "source": [
    "import pyspark.sql.functions as F"
   ]
  },
  {
   "cell_type": "code",
   "execution_count": 29,
   "id": "71f3b3a0",
   "metadata": {},
   "outputs": [],
   "source": [
    "#create column for length of words\n",
    "ff = result.withColumn(\"length_of_word\", F.length(\"word\"))"
   ]
  },
  {
   "cell_type": "code",
   "execution_count": 30,
   "id": "fb36eee5",
   "metadata": {},
   "outputs": [
    {
     "name": "stderr",
     "output_type": "stream",
     "text": [
      "[Stage 11:==================================================>   (187 + 2) / 200]\r"
     ]
    },
    {
     "name": "stdout",
     "output_type": "stream",
     "text": [
      "+------+-------+--------------+\n",
      "|word  |count  |length_of_word|\n",
      "+------+-------+--------------+\n",
      "|      |2364192|0             |\n",
      "|news  |2355078|4             |\n",
      "|de    |1801179|2             |\n",
      "|-     |1539807|1             |\n",
      "|en    |1095573|2             |\n",
      "|la    |1013835|2             |\n",
      "|e     |679734 |1             |\n",
      "|tv    |515205 |2             |\n",
      "|video |509676 |5             |\n",
      "|le    |465087 |2             |\n",
      "|es    |443616 |2             |\n",
      "|un    |402609 |2             |\n",
      "|di    |387084 |2             |\n",
      "|us    |384423 |2             |\n",
      "|il    |353142 |2             |\n",
      "|futbol|346983 |6             |\n",
      "|que   |332037 |3             |\n",
      "|best  |324978 |4             |\n",
      "|les   |307719 |3             |\n",
      "|new   |302583 |3             |\n",
      "+------+-------+--------------+\n",
      "only showing top 20 rows\n",
      "\n"
     ]
    },
    {
     "name": "stderr",
     "output_type": "stream",
     "text": [
      "                                                                                \r"
     ]
    }
   ],
   "source": [
    "#show length of words\n",
    "ff.show(truncate=False)"
   ]
  },
  {
   "cell_type": "code",
   "execution_count": 31,
   "id": "1390d207",
   "metadata": {},
   "outputs": [],
   "source": [
    "#find when length of word is not zero\n",
    "ff=ff.filter(ff.length_of_word!=0)"
   ]
  },
  {
   "cell_type": "code",
   "execution_count": 32,
   "id": "a108359f",
   "metadata": {},
   "outputs": [
    {
     "name": "stderr",
     "output_type": "stream",
     "text": [
      "                                                                                \r"
     ]
    }
   ],
   "source": [
    "list_df = ff.select(\"word\", \"count\").rdd.flatMap(lambda x: x).collect()"
   ]
  },
  {
   "cell_type": "code",
   "execution_count": 34,
   "id": "d0b1e280",
   "metadata": {},
   "outputs": [],
   "source": [
    "from pyspark.sql.functions import col"
   ]
  },
  {
   "cell_type": "code",
   "execution_count": 35,
   "id": "31444766",
   "metadata": {},
   "outputs": [],
   "source": [
    "import numpy as np \n",
    "import matplotlib.pyplot as plt \n",
    "import pandas as pd"
   ]
  },
  {
   "cell_type": "code",
   "execution_count": null,
   "id": "b11c31eb",
   "metadata": {},
   "outputs": [
    {
     "name": "stderr",
     "output_type": "stream",
     "text": [
      "[Stage 17:====>                                                    (4 + 2) / 54]\r"
     ]
    }
   ],
   "source": [
    "pandas_df = result.toPandas()\n",
    "pandas_df.sort_values(by='count',ascending=False).plot(x ='word', y='count', kind = 'bar')"
   ]
  },
  {
   "cell_type": "code",
   "execution_count": null,
   "id": "940bc5d0",
   "metadata": {},
   "outputs": [],
   "source": [
    "#data_clean.filter(F.col('words_clean').isin(list_ddd)).show()"
   ]
  },
  {
   "cell_type": "code",
   "execution_count": null,
   "id": "d7d3f0dc",
   "metadata": {},
   "outputs": [],
   "source": []
  },
  {
   "cell_type": "code",
   "execution_count": null,
   "id": "8a0cefd4",
   "metadata": {},
   "outputs": [],
   "source": []
  }
 ],
 "metadata": {
  "kernelspec": {
   "display_name": "Python 3 (ipykernel)",
   "language": "python",
   "name": "python3"
  },
  "language_info": {
   "codemirror_mode": {
    "name": "ipython",
    "version": 3
   },
   "file_extension": ".py",
   "mimetype": "text/x-python",
   "name": "python",
   "nbconvert_exporter": "python",
   "pygments_lexer": "ipython3",
   "version": "3.9.5"
  }
 },
 "nbformat": 4,
 "nbformat_minor": 5
}
